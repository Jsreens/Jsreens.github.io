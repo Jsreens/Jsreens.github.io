{
 "cells": [
  {
   "cell_type": "code",
   "execution_count": 9,
   "metadata": {},
   "outputs": [],
   "source": [
    "import csv\n",
    "from collections import defaultdict\n",
    "from collections import Counter\n",
    "import pprint as pprint\n",
    "import json\n",
    "dataset = []\n",
    "dataPoint = {}\n",
    "\n",
    "# Cleaning and filtering data\n",
    "def make_data_point(line, header):\n",
    "    output = {}\n",
    "    for index, header_item in enumerate(header):\n",
    "        output[header_item] = line[index]\n",
    "    return output\n",
    "with open(\"denver-1.nov.csv\") as inf:\n",
    "    reader = csv.reader(inf)\n",
    "    header = next(reader)\n",
    "    all_data = []\n",
    "    for line in reader:\n",
    "        all_data.append(make_data_point(line, header))\n",
    "        \n",
    "#Creating defaultdictions to store data to aggregate\n",
    "time_counter_arrest = defaultdict(int)\n",
    "time_counter_free = defaultdict(int)\n",
    "data_by_time = defaultdict(list)\n",
    "for point in all_data:\n",
    "\n",
    "    #I only want to look at the hour in time\n",
    "    data_by_time[point[\"time\"][0:2]].append(point)\n",
    "# print(data_by_time.values())\n"
   ]
  },
  {
   "cell_type": "code",
   "execution_count": 10,
   "metadata": {},
   "outputs": [],
   "source": [
    "# Create a table that has the Time and arrests made to see if there is a correlation\n",
    "# will need to check and plot hourly counts for arrests were made over 24 points\n"
   ]
  },
  {
   "cell_type": "code",
   "execution_count": 11,
   "metadata": {},
   "outputs": [
    {
     "name": "stdout",
     "output_type": "stream",
     "text": [
      "Out of 6365 total incidents, only 4.264 percent were arrests. This is 985 total arrests in this month of November\n"
     ]
    }
   ],
   "source": [
    "# data_by_time\n",
    "stopCount = 0\n",
    "\n",
    "# print(timeData)\n",
    "for time in data_by_time:\n",
    "    arrest_count = 0\n",
    "    free_count = 0\n",
    "#     data.append(time[:2])\n",
    "    timeData = data_by_time[time] # looks at that specific time\n",
    "#     print(time[0:2])\n",
    "    for stop in timeData: # checks if the arrest status is true or false. add to count\n",
    "        stopCount +=1\n",
    "        if stop[\"arrest_made\"] == \"TRUE\":\n",
    "            arrest_count += 1\n",
    "#             print(arrest_count)\n",
    "        if stop[\"arrest_made\"] == \"FALSE\":\n",
    "            free_count +=1\n",
    "#             data_by_time\n",
    "#             data.append(arrests)\n",
    "    time_counter_arrest[time] = arrest_count\n",
    "    #Creates dictionary of hourly times and total number of arrests or non arrests\n",
    "    time_counter_free[time] = free_count\n",
    "    \n",
    "    \n",
    "#calulating summary statistic about aggregate data\n",
    "all_arrests = sum(time_counter_arrest.values())\n",
    "# total_arrests = len(data_by_time).values()\n",
    "percentArrested = (arrest_count/all_arrests*100)\n",
    "percentArrested = round(percentArrested,3)\n",
    "\n",
    "    \n",
    "# print(arrestCount,noArrest)\n",
    "print(\"Out of\", stopCount,\"total incidents, only\",percentArrested,\"percent were arrests. This is\",all_arrests,\"total arrests in this month of November\")"
   ]
  },
  {
   "cell_type": "code",
   "execution_count": 14,
   "metadata": {
    "scrolled": false
   },
   "outputs": [],
   "source": [
    "# print(time_counter_arrest)\n",
    "# time_counter_free\n",
    "lst = list(time_counter_arrest.keys())\n",
    "lst.sort()\n"
   ]
  },
  {
   "cell_type": "code",
   "execution_count": null,
   "metadata": {},
   "outputs": [],
   "source": [
    "#creating json files"
   ]
  },
  {
   "cell_type": "code",
   "execution_count": 77,
   "metadata": {},
   "outputs": [],
   "source": [
    "with open('DenverTimeArrests.json', 'w') as f:\n",
    "    json.dump(time_counter_arrest,f)"
   ]
  },
  {
   "cell_type": "code",
   "execution_count": 78,
   "metadata": {},
   "outputs": [],
   "source": [
    "with open('DenverTimeFree.json','w') as f:\n",
    "    json.dump(time_counter_free,f)\n",
    "    "
   ]
  },
  {
   "cell_type": "code",
   "execution_count": 13,
   "metadata": {},
   "outputs": [
    {
     "data": {
      "text/plain": [
       "defaultdict(int,\n",
       "            {'00': 113,\n",
       "             '22': 99,\n",
       "             '17': 23,\n",
       "             '23': 116,\n",
       "             '01': 94,\n",
       "             '04': 14,\n",
       "             '05': 5,\n",
       "             '07': 5,\n",
       "             '21': 53,\n",
       "             '19': 40,\n",
       "             '20': 40,\n",
       "             '13': 16,\n",
       "             '12': 15,\n",
       "             '08': 13,\n",
       "             '10': 38,\n",
       "             '09': 14,\n",
       "             '18': 39,\n",
       "             '02': 70,\n",
       "             '11': 32,\n",
       "             '14': 30,\n",
       "             '06': 5,\n",
       "             '03': 36,\n",
       "             '15': 33,\n",
       "             '16': 42})"
      ]
     },
     "execution_count": 13,
     "metadata": {},
     "output_type": "execute_result"
    }
   ],
   "source": [
    "# time_counter_arrest\n"
   ]
  },
  {
   "cell_type": "code",
   "execution_count": 58,
   "metadata": {},
   "outputs": [],
   "source": []
  },
  {
   "cell_type": "code",
   "execution_count": null,
   "metadata": {},
   "outputs": [],
   "source": []
  },
  {
   "cell_type": "code",
   "execution_count": null,
   "metadata": {},
   "outputs": [],
   "source": []
  },
  {
   "cell_type": "code",
   "execution_count": null,
   "metadata": {},
   "outputs": [],
   "source": []
  },
  {
   "cell_type": "code",
   "execution_count": null,
   "metadata": {},
   "outputs": [],
   "source": []
  },
  {
   "cell_type": "code",
   "execution_count": null,
   "metadata": {},
   "outputs": [],
   "source": []
  }
 ],
 "metadata": {
  "kernelspec": {
   "display_name": "Python 3",
   "language": "python",
   "name": "python3"
  },
  "language_info": {
   "codemirror_mode": {
    "name": "ipython",
    "version": 3
   },
   "file_extension": ".py",
   "mimetype": "text/x-python",
   "name": "python",
   "nbconvert_exporter": "python",
   "pygments_lexer": "ipython3",
   "version": "3.6.5"
  }
 },
 "nbformat": 4,
 "nbformat_minor": 2
}
